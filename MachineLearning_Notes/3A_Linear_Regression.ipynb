{
 "cells": [
  {
   "cell_type": "code",
   "execution_count": 1,
   "metadata": {},
   "outputs": [],
   "source": [
    "import numpy as np\n",
    "import pandas as pd\n",
    "import matplotlib.pyplot as plt\n",
    "import seaborn as sns \n",
    "from IPython.display import display"
   ]
  },
  {
   "cell_type": "markdown",
   "metadata": {},
   "source": [
    "#### Tips Dataset\n",
    "- `total_bill`: Total bill (cost of the meal), including tax, in US dollars\n",
    "- `tip`: Tip (gratuity) in US dollars\n",
    "- `gender`: Gender of person paying for the meal (male, female)\n",
    "- `smoker`: Smoker in party? (0=No, 1=Yes)\n",
    "- `day`: name of day of the visit\n",
    "- `time`: time of visit (Lunch,Dinner)\n",
    "- `people`: number of people of the party"
   ]
  },
  {
   "cell_type": "code",
   "execution_count": 2,
   "metadata": {},
   "outputs": [
    {
     "name": "stdout",
     "output_type": "stream",
     "text": [
      "<class 'pandas.core.frame.DataFrame'>\n",
      "RangeIndex: 244 entries, 0 to 243\n",
      "Data columns (total 7 columns):\n",
      "total_bill    244 non-null float64\n",
      "tip           244 non-null float64\n",
      "gender        244 non-null object\n",
      "smoker        244 non-null object\n",
      "day           244 non-null object\n",
      "time          244 non-null object\n",
      "people        244 non-null int64\n",
      "dtypes: float64(2), int64(1), object(4)\n",
      "memory usage: 13.5+ KB\n"
     ]
    },
    {
     "data": {
      "text/plain": [
       "None"
      ]
     },
     "metadata": {},
     "output_type": "display_data"
    },
    {
     "data": {
      "text/html": [
       "<div>\n",
       "<style scoped>\n",
       "    .dataframe tbody tr th:only-of-type {\n",
       "        vertical-align: middle;\n",
       "    }\n",
       "\n",
       "    .dataframe tbody tr th {\n",
       "        vertical-align: top;\n",
       "    }\n",
       "\n",
       "    .dataframe thead th {\n",
       "        text-align: right;\n",
       "    }\n",
       "</style>\n",
       "<table border=\"1\" class=\"dataframe\">\n",
       "  <thead>\n",
       "    <tr style=\"text-align: right;\">\n",
       "      <th></th>\n",
       "      <th>total_bill</th>\n",
       "      <th>tip</th>\n",
       "      <th>gender</th>\n",
       "      <th>smoker</th>\n",
       "      <th>day</th>\n",
       "      <th>time</th>\n",
       "      <th>people</th>\n",
       "    </tr>\n",
       "  </thead>\n",
       "  <tbody>\n",
       "    <tr>\n",
       "      <td>0</td>\n",
       "      <td>16.99</td>\n",
       "      <td>1.01</td>\n",
       "      <td>Female</td>\n",
       "      <td>No</td>\n",
       "      <td>Sun</td>\n",
       "      <td>Dinner</td>\n",
       "      <td>2</td>\n",
       "    </tr>\n",
       "    <tr>\n",
       "      <td>1</td>\n",
       "      <td>10.34</td>\n",
       "      <td>1.66</td>\n",
       "      <td>Male</td>\n",
       "      <td>No</td>\n",
       "      <td>Sun</td>\n",
       "      <td>Dinner</td>\n",
       "      <td>3</td>\n",
       "    </tr>\n",
       "    <tr>\n",
       "      <td>2</td>\n",
       "      <td>21.01</td>\n",
       "      <td>3.50</td>\n",
       "      <td>Male</td>\n",
       "      <td>No</td>\n",
       "      <td>Sun</td>\n",
       "      <td>Dinner</td>\n",
       "      <td>3</td>\n",
       "    </tr>\n",
       "  </tbody>\n",
       "</table>\n",
       "</div>"
      ],
      "text/plain": [
       "   total_bill   tip  gender smoker  day    time  people\n",
       "0       16.99  1.01  Female     No  Sun  Dinner       2\n",
       "1       10.34  1.66    Male     No  Sun  Dinner       3\n",
       "2       21.01  3.50    Male     No  Sun  Dinner       3"
      ]
     },
     "metadata": {},
     "output_type": "display_data"
    },
    {
     "data": {
      "text/html": [
       "<div>\n",
       "<style scoped>\n",
       "    .dataframe tbody tr th:only-of-type {\n",
       "        vertical-align: middle;\n",
       "    }\n",
       "\n",
       "    .dataframe tbody tr th {\n",
       "        vertical-align: top;\n",
       "    }\n",
       "\n",
       "    .dataframe thead th {\n",
       "        text-align: right;\n",
       "    }\n",
       "</style>\n",
       "<table border=\"1\" class=\"dataframe\">\n",
       "  <thead>\n",
       "    <tr style=\"text-align: right;\">\n",
       "      <th></th>\n",
       "      <th>total_bill</th>\n",
       "      <th>tip</th>\n",
       "      <th>people</th>\n",
       "    </tr>\n",
       "  </thead>\n",
       "  <tbody>\n",
       "    <tr>\n",
       "      <td>count</td>\n",
       "      <td>244.000000</td>\n",
       "      <td>244.000000</td>\n",
       "      <td>244.000000</td>\n",
       "    </tr>\n",
       "    <tr>\n",
       "      <td>mean</td>\n",
       "      <td>19.785943</td>\n",
       "      <td>2.998279</td>\n",
       "      <td>2.569672</td>\n",
       "    </tr>\n",
       "    <tr>\n",
       "      <td>std</td>\n",
       "      <td>8.902412</td>\n",
       "      <td>1.383638</td>\n",
       "      <td>0.951100</td>\n",
       "    </tr>\n",
       "    <tr>\n",
       "      <td>min</td>\n",
       "      <td>3.070000</td>\n",
       "      <td>1.000000</td>\n",
       "      <td>1.000000</td>\n",
       "    </tr>\n",
       "    <tr>\n",
       "      <td>25%</td>\n",
       "      <td>13.347500</td>\n",
       "      <td>2.000000</td>\n",
       "      <td>2.000000</td>\n",
       "    </tr>\n",
       "    <tr>\n",
       "      <td>50%</td>\n",
       "      <td>17.795000</td>\n",
       "      <td>2.900000</td>\n",
       "      <td>2.000000</td>\n",
       "    </tr>\n",
       "    <tr>\n",
       "      <td>75%</td>\n",
       "      <td>24.127500</td>\n",
       "      <td>3.562500</td>\n",
       "      <td>3.000000</td>\n",
       "    </tr>\n",
       "    <tr>\n",
       "      <td>max</td>\n",
       "      <td>50.810000</td>\n",
       "      <td>10.000000</td>\n",
       "      <td>6.000000</td>\n",
       "    </tr>\n",
       "  </tbody>\n",
       "</table>\n",
       "</div>"
      ],
      "text/plain": [
       "       total_bill         tip      people\n",
       "count  244.000000  244.000000  244.000000\n",
       "mean    19.785943    2.998279    2.569672\n",
       "std      8.902412    1.383638    0.951100\n",
       "min      3.070000    1.000000    1.000000\n",
       "25%     13.347500    2.000000    2.000000\n",
       "50%     17.795000    2.900000    2.000000\n",
       "75%     24.127500    3.562500    3.000000\n",
       "max     50.810000   10.000000    6.000000"
      ]
     },
     "metadata": {},
     "output_type": "display_data"
    }
   ],
   "source": [
    "df = pd.read_csv('./datasets/tips.csv')\n",
    "\n",
    "display(df.info())\n",
    "display(df.head(3))\n",
    "display(df.describe())"
   ]
  },
  {
   "cell_type": "markdown",
   "metadata": {},
   "source": [
    "# Simple Linear Regression\n",
    "- Model: $\\hat{y} = \\theta_0\\ x + \\theta_1$\n",
    "\n",
    "#### Gradient Descent Optimization with MSE\n",
    "$\\begin{cases}\n",
    "    \\text{Gradient: } \\frac{\\delta\\ L(\\theta_t\\ , Y)}{\\delta\\ \\theta} \\\\\n",
    "    \\text{MSE Loss function: } L(\\theta_t\\ , Y) = \\frac{1}{n}\\ \\sum\\limits_{i=1}^n(y_i - \\hat{y}_i)^2 \\\\\n",
    "    \\text{Simple Linear Regression Model: } \\hat{y}_i = \\theta_0\\ x_i + \\theta_1\n",
    "\\end{cases}$  \n",
    "\n",
    "$\\begin{align*}\n",
    "\\to \\text{Gradient: } \\frac{\\delta\\ L(\\theta_t\\ , Y)}{\\delta\\ \\theta} &= \\frac{\\delta}{\\delta\\ \\theta}\\ \\left[ \\frac{1}{n}\\ \\sum\\limits_{i=1}^n(y_i - \\hat{y}_i)^2 \\right] \\\\\n",
    "    &= \\frac{1}{n}\\ \\sum\\limits_{i=1}^n\\ \\left[ (-2)\\ (y_i - \\hat{y}_i)\\ \\frac{\\delta}{\\delta\\ \\theta} (\\theta_0\\ x_i + \\theta_1) \\right] \\\\\n",
    "    &= \\frac{-2}{n}\\ \\sum\\limits_{i=1}^n\\ \\left[(y_i - \\hat{y}_i)\\ \\frac{\\delta}{\\delta\\ \\theta} (\\theta_0\\ x_i + \\theta_1) \\right] \\\\\n",
    "    &= \\frac{-2}{n}\\ \\sum\\limits_{i=1}^n\\ \\left[(y_i - \\hat{y}_i)\\ \\frac{\\delta}{\\delta\\ \\theta_0} (\\theta_0\\ x_i + \\theta_1) \\right] + \\frac{-2}{n}\\ \\sum\\limits_{i=1}^n\\ \\left[(y_i - \\hat{y}_i)\\ \\frac{\\delta}{\\delta\\ \\theta_1} (\\theta_0\\ x_i + \\theta_1) \\right] \\\\\n",
    "    &= \\frac{-2}{n}\\ \\sum\\limits_{i=1}^n\\ \\left[(y_i - \\hat{y}_i)\\ x_i \\right] + \\frac{-2}{n}\\ \\sum\\limits_{i=1}^n\\ \\left[(y_i - \\hat{y}_i) \\right] \\\\\n",
    "    &= \\frac{-2}{n}\\ \\sum\\limits_{i=1}^n\\ \\left[(y_i - \\hat{y}_i)\\ (x_i + 1) \\right]\n",
    "\\end{align*}$\n",
    "\n",
    "- Gradient Descent functions  \n",
    "$\\begin{cases}\n",
    "    \\text{Gradient = } \\frac{-2}{n}\\ \\sum\\limits_{i=1}^n\\ \\left[(y_i - \\theta_0\\ x - \\theta_1)\\ (x_i + 1) \\right] \\\\\n",
    "    \\text{Update theta: } \\theta_{t+1} = \\theta_t - \\alpha * \\text{Gradient}\n",
    "\\end{cases}$"
   ]
  },
  {
   "cell_type": "code",
   "execution_count": 3,
   "metadata": {},
   "outputs": [],
   "source": [
    "def gradient(X, y, thetas):\n",
    "    '''\n",
    "    Gradient function for \n",
    "        Simple linear regression model: y_pred = theta_0 * X + theta_1\n",
    "        MSE loss\n",
    "    '''\n",
    "    n = X.shape[0]\n",
    "    return (-2.0/n) * ((y-thetas[0]*X-thetas[1])*(X+1)).sum()\n",
    "\n",
    "def update_thetas(thetas, gradient, alpha=0.001):\n",
    "    return thetas - (alpha * gradient)"
   ]
  },
  {
   "cell_type": "code",
   "execution_count": 4,
   "metadata": {},
   "outputs": [],
   "source": [
    "def mse_loss(y_pred, y):\n",
    "    '''\n",
    "    Loss function: Mean squared error\n",
    "    '''\n",
    "    return ((y_pred - y)**2).mean()\n",
    "\n",
    "def model(thetas, X):\n",
    "    '''\n",
    "    Simple linear regression model: y_pred = theta_0 * X + theta_1\n",
    "    '''\n",
    "    return thetas[0]*X + thetas[1]"
   ]
  },
  {
   "cell_type": "code",
   "execution_count": 5,
   "metadata": {},
   "outputs": [],
   "source": [
    "import random \n",
    "\n",
    "def fit(X, y, epsilon=0.001, alpha=0.001):\n",
    "    thetas = np.array([random.uniform(0, 1), random.uniform(0, 1)])\n",
    "\n",
    "    iters = 0\n",
    "    while True:\n",
    "        # compute gradient\n",
    "        grad = gradient(\n",
    "            X=X, y=y,\n",
    "            thetas=thetas)\n",
    "\n",
    "        # update theta\n",
    "        new_thetas = update_thetas(\n",
    "            thetas=thetas,\n",
    "            gradient=grad,\n",
    "            alpha=0.001)\n",
    "\n",
    "        # Update model\n",
    "        y_pred = model(thetas, X)\n",
    "        loss = mse_loss(y_pred, y)\n",
    "\n",
    "        # Print\n",
    "        iters += 1\n",
    "        print('#### iter {} ####'.format(iters))\n",
    "        print('Gradient: {:.3f}'.format(grad))\n",
    "        print('theta: [{:.2f}, {:.2f}]'.format(new_thetas[0], new_thetas[1]))\n",
    "        print('loss: {:.3f}'.format(loss), end='\\n\\n')\n",
    "\n",
    "        # stopping condition\n",
    "        diff = abs(new_thetas - thetas)\n",
    "        if (diff[0] < epsilon and diff[1] < epsilon):\n",
    "            thetas = new_thetas\n",
    "            break\n",
    "\n",
    "        thetas = new_thetas\n",
    "    \n",
    "    # Plot\n",
    "    ## Plot actual values \n",
    "    plt.scatter(x=X, y=y)\n",
    "\n",
    "    ## Plot best fit line of predictions\n",
    "    plt.plot(X, thetas[0]*X + thetas[1],\n",
    "        color = 'y')\n",
    "\n",
    "    ## Config\n",
    "    plt.axis ('tight')\n",
    "    plt.xlabel('Total bill')\n",
    "    plt.ylabel('Tips')\n",
    "    plt.show()"
   ]
  },
  {
   "cell_type": "code",
   "execution_count": 6,
   "metadata": {
    "scrolled": false
   },
   "outputs": [
    {
     "name": "stdout",
     "output_type": "stream",
     "text": [
      "#### iter 1 ####\n",
      "Gradient: 420.295\n",
      "theta: [0.11, 0.53]\n",
      "loss: 87.486\n",
      "\n",
      "#### iter 2 ####\n",
      "Gradient: -9.233\n",
      "theta: [0.12, 0.53]\n",
      "loss: 1.103\n",
      "\n",
      "#### iter 3 ####\n",
      "Gradient: 0.203\n",
      "theta: [0.12, 0.53]\n",
      "loss: 1.061\n",
      "\n",
      "#### iter 4 ####\n",
      "Gradient: -0.004\n",
      "theta: [0.12, 0.53]\n",
      "loss: 1.061\n",
      "\n"
     ]
    },
    {
     "data": {
      "image/png": "[encoded data removed]",
      "text/plain": [
       "<Figure size 432x288 with 1 Axes>"
      ]
     },
     "metadata": {
      "needs_background": "light"
     },
     "output_type": "display_data"
    }
   ],
   "source": [
    "fit(X=df['total_bill'],\n",
    "    y=df['tip'],\n",
    "    epsilon=0.00001, alpha=0.001)"
   ]
  }
 ],
 "metadata": {
  "kernelspec": {
   "display_name": "Python 3.7",
   "language": "python",
   "name": "py37"
  },
  "language_info": {
   "codemirror_mode": {
    "name": "ipython",
    "version": 3
   },
   "file_extension": ".py",
   "mimetype": "text/x-python",
   "name": "python",
   "nbconvert_exporter": "python",
   "pygments_lexer": "ipython3",
   "version": "3.7.9"
  }
 },
 "nbformat": 4,
 "nbformat_minor": 2
}

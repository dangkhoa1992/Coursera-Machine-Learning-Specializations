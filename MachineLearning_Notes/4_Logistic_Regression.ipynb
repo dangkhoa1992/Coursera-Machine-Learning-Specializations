{
 "cells": [
  {
   "cell_type": "code",
   "execution_count": 1,
   "metadata": {},
   "outputs": [],
   "source": [
    "import numpy as np\n",
    "import pandas as pd\n",
    "import matplotlib.pyplot as plt\n",
    "import seaborn as sns \n",
    "from IPython.display import display"
   ]
  },
  {
   "cell_type": "markdown",
   "metadata": {},
   "source": [
    "# Classification\n",
    "- Regression = predict numerical variable\n",
    "- Classification = predict categorical variable\n",
    "\n",
    "## Logistic Regression\n",
    "- Logistic Regression = Linear Regression + Logistic function\n",
    "    + h(x) = g(f(x))\n",
    "        + f(x): Linear Regression\n",
    "        + g(t): Logistic function\n",
    "- The simplest case of classification = binary classification (ie: Yes/No, Male/Female)\n",
    "<img src=\"./assets/2.svg\" width=\"500\"/>\n",
    "\n",
    "- Optimized by minimizing Cost function J(y)\n",
    "\n",
    "#### Linear Regression\n",
    "- $f(x) = \\theta_0 + \\theta_1\\ x_1 + \\theta_2\\ x_2 + ... + \\theta_n\\ x_n$ \n",
    "\n",
    "#### Logistic function\n",
    "- $sigmoid(t) = \\frac{1}{1+e^{-t}}$\n",
    "    + Output range: [0,1]\n",
    "    + Binary classification: \n",
    "        + If output $\\geq 0.5$: class 1\n",
    "        + If output $< 0.5$: class 0"
   ]
  },
  {
   "cell_type": "code",
   "execution_count": 14,
   "metadata": {},
   "outputs": [],
   "source": [
    "def sigmoid(t):\n",
    "    return 1/(1+np.exp(-t))"
   ]
  },
  {
   "cell_type": "code",
   "execution_count": 19,
   "metadata": {},
   "outputs": [
    {
     "data": {
      "image/png": "[encoded data removed]",
      "text/plain": [
       "<Figure size 432x288 with 1 Axes>"
      ]
     },
     "metadata": {
      "needs_background": "light"
     },
     "output_type": "display_data"
    }
   ],
   "source": [
    "t = np.linspace(-10, 10, 10000)\n",
    "\n",
    "plt.plot(t, sigmoid(t))\n",
    "plt.show()"
   ]
  },
  {
   "cell_type": "code",
   "execution_count": 18,
   "metadata": {},
   "outputs": [
    {
     "data": {
      "image/png": "[encoded data removed]",
      "text/plain": [
       "<Figure size 432x288 with 1 Axes>"
      ]
     },
     "metadata": {
      "needs_background": "light"
     },
     "output_type": "display_data"
    }
   ],
   "source": [
    "t = np.linspace(-100, 100, 10000)\n",
    "\n",
    "plt.plot(t, sigmoid(t))\n",
    "plt.show()"
   ]
  },
  {
   "cell_type": "markdown",
   "metadata": {},
   "source": [
    "#### Cost function\n",
    "- **Cross-entropy** function\n",
    "\n",
    "$$J(y) = \\frac{1}{n}\\ \\sum\\limits_{i=1}^n \\left[ -y_i\\ log(h(x_i))\\ -\\ (1-y_i)\\ log(h(x_i)) \\right]$$\n",
    "\n",
    "+ h(x) = g(f(x)): Output of Logistic Regression in range [0,1]\n",
    "+ y: The true label (0 or 1)\n",
    "\n",
    "- Inside the [] = Loss for 1 observation\n",
    "- Minimized J(y) by Gradient Descent"
   ]
  }
 ],
 "metadata": {
  "kernelspec": {
   "display_name": "Python 3.7",
   "language": "python",
   "name": "py37"
  },
  "language_info": {
   "codemirror_mode": {
    "name": "ipython",
    "version": 3
   },
   "file_extension": ".py",
   "mimetype": "text/x-python",
   "name": "python",
   "nbconvert_exporter": "python",
   "pygments_lexer": "ipython3",
   "version": "3.7.9"
  }
 },
 "nbformat": 4,
 "nbformat_minor": 2
}

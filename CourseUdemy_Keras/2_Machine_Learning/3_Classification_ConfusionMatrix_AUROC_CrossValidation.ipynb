{
 "cells": [
  {
   "cell_type": "code",
   "execution_count": 1,
   "metadata": {},
   "outputs": [],
   "source": [
    "import seaborn as sns\n",
    "import matplotlib.pyplot as plt\n",
    "import pandas as pd\n",
    "import numpy as np\n",
    "from IPython.display import display"
   ]
  },
  {
   "cell_type": "markdown",
   "metadata": {},
   "source": [
    "## Logistic Regression\n",
    "- Apply Sigmoid to Linear Regression\n",
    "<img src=\"./Figs/2.jpg\" alt=\"Drawing\" style=\"width: 650px;\"/>\n",
    "- Output range [0,1]\n",
    "\n",
    "### Binary Classification Cost function(Entropy)\n",
    "$$c_i = -(1-y_i)log(1-\\widehat{y_i}) - y_ilog(\\widehat{y_i})$$\n",
    "\n",
    "\\begin{equation}\n",
    "  => c_i=\\begin{cases}\n",
    "    -log(1-\\widehat{y_i}), & \\text{when $y_i=0$}\\\\\n",
    "    -log(\\widehat{y_i}), & \\text{when $y_i=1$}\n",
    "  \\end{cases}\n",
    "\\end{equation}\n",
    "\n",
    "### Binary Log Loss(Average Entropy)\n",
    "$$c = \\frac{1}{N} \\sum_{i}c_i$$"
   ]
  },
  {
   "cell_type": "markdown",
   "metadata": {},
   "source": [
    "## Data Exploratory"
   ]
  },
  {
   "cell_type": "code",
   "execution_count": 2,
   "metadata": {},
   "outputs": [
    {
     "name": "stdout",
     "output_type": "stream",
     "text": [
      "<class 'pandas.core.frame.DataFrame'>\n",
      "RangeIndex: 100 entries, 0 to 99\n",
      "Data columns (total 2 columns):\n",
      "Time (min)    100 non-null float64\n",
      "Buy           100 non-null int64\n",
      "dtypes: float64(1), int64(1)\n",
      "memory usage: 1.6 KB\n"
     ]
    },
    {
     "data": {
      "text/plain": [
       "None"
      ]
     },
     "metadata": {},
     "output_type": "display_data"
    },
    {
     "data": {
      "text/html": [
       "<div>\n",
       "<style scoped>\n",
       "    .dataframe tbody tr th:only-of-type {\n",
       "        vertical-align: middle;\n",
       "    }\n",
       "\n",
       "    .dataframe tbody tr th {\n",
       "        vertical-align: top;\n",
       "    }\n",
       "\n",
       "    .dataframe thead th {\n",
       "        text-align: right;\n",
       "    }\n",
       "</style>\n",
       "<table border=\"1\" class=\"dataframe\">\n",
       "  <thead>\n",
       "    <tr style=\"text-align: right;\">\n",
       "      <th></th>\n",
       "      <th>Time (min)</th>\n",
       "      <th>Buy</th>\n",
       "    </tr>\n",
       "  </thead>\n",
       "  <tbody>\n",
       "    <tr>\n",
       "      <th>0</th>\n",
       "      <td>2.000000</td>\n",
       "      <td>0</td>\n",
       "    </tr>\n",
       "    <tr>\n",
       "      <th>1</th>\n",
       "      <td>0.683333</td>\n",
       "      <td>0</td>\n",
       "    </tr>\n",
       "    <tr>\n",
       "      <th>2</th>\n",
       "      <td>3.216667</td>\n",
       "      <td>1</td>\n",
       "    </tr>\n",
       "    <tr>\n",
       "      <th>3</th>\n",
       "      <td>0.900000</td>\n",
       "      <td>0</td>\n",
       "    </tr>\n",
       "    <tr>\n",
       "      <th>4</th>\n",
       "      <td>1.533333</td>\n",
       "      <td>1</td>\n",
       "    </tr>\n",
       "  </tbody>\n",
       "</table>\n",
       "</div>"
      ],
      "text/plain": [
       "   Time (min)  Buy\n",
       "0    2.000000    0\n",
       "1    0.683333    0\n",
       "2    3.216667    1\n",
       "3    0.900000    0\n",
       "4    1.533333    1"
      ]
     },
     "metadata": {},
     "output_type": "display_data"
    },
    {
     "data": {
      "text/html": [
       "<div>\n",
       "<style scoped>\n",
       "    .dataframe tbody tr th:only-of-type {\n",
       "        vertical-align: middle;\n",
       "    }\n",
       "\n",
       "    .dataframe tbody tr th {\n",
       "        vertical-align: top;\n",
       "    }\n",
       "\n",
       "    .dataframe thead th {\n",
       "        text-align: right;\n",
       "    }\n",
       "</style>\n",
       "<table border=\"1\" class=\"dataframe\">\n",
       "  <thead>\n",
       "    <tr style=\"text-align: right;\">\n",
       "      <th></th>\n",
       "      <th>Time (min)</th>\n",
       "      <th>Buy</th>\n",
       "    </tr>\n",
       "  </thead>\n",
       "  <tbody>\n",
       "    <tr>\n",
       "      <th>count</th>\n",
       "      <td>100.000000</td>\n",
       "      <td>100.000000</td>\n",
       "    </tr>\n",
       "    <tr>\n",
       "      <th>mean</th>\n",
       "      <td>1.849000</td>\n",
       "      <td>0.500000</td>\n",
       "    </tr>\n",
       "    <tr>\n",
       "      <th>std</th>\n",
       "      <td>1.073868</td>\n",
       "      <td>0.502519</td>\n",
       "    </tr>\n",
       "    <tr>\n",
       "      <th>min</th>\n",
       "      <td>0.000000</td>\n",
       "      <td>0.000000</td>\n",
       "    </tr>\n",
       "    <tr>\n",
       "      <th>25%</th>\n",
       "      <td>1.066667</td>\n",
       "      <td>0.000000</td>\n",
       "    </tr>\n",
       "    <tr>\n",
       "      <th>50%</th>\n",
       "      <td>1.858333</td>\n",
       "      <td>0.500000</td>\n",
       "    </tr>\n",
       "    <tr>\n",
       "      <th>75%</th>\n",
       "      <td>2.687500</td>\n",
       "      <td>1.000000</td>\n",
       "    </tr>\n",
       "    <tr>\n",
       "      <th>max</th>\n",
       "      <td>4.150000</td>\n",
       "      <td>1.000000</td>\n",
       "    </tr>\n",
       "  </tbody>\n",
       "</table>\n",
       "</div>"
      ],
      "text/plain": [
       "       Time (min)         Buy\n",
       "count  100.000000  100.000000\n",
       "mean     1.849000    0.500000\n",
       "std      1.073868    0.502519\n",
       "min      0.000000    0.000000\n",
       "25%      1.066667    0.000000\n",
       "50%      1.858333    0.500000\n",
       "75%      2.687500    1.000000\n",
       "max      4.150000    1.000000"
      ]
     },
     "metadata": {},
     "output_type": "display_data"
    },
    {
     "data": {
      "text/plain": [
       "1    50\n",
       "0    50\n",
       "Name: Buy, dtype: int64"
      ]
     },
     "metadata": {},
     "output_type": "display_data"
    },
    {
     "data": {
      "text/plain": [
       "<matplotlib.axes._subplots.AxesSubplot at 0x7f41302a7240>"
      ]
     },
     "execution_count": 2,
     "metadata": {},
     "output_type": "execute_result"
    },
    {
     "data": {
      "image/png": "[encoded data removed]",
      "text/plain": [
       "<Figure size 432x288 with 1 Axes>"
      ]
     },
     "metadata": {},
     "output_type": "display_data"
    }
   ],
   "source": [
    "df = pd.read_csv('user_visit_duration.csv')\n",
    "\n",
    "display(df.info())\n",
    "display(df.head())\n",
    "display(df.describe())\n",
    "\n",
    "display(df['Buy'].value_counts())\n",
    "\n",
    "df.plot(kind='scatter', x='Time (min)', y='Buy')"
   ]
  },
  {
   "cell_type": "markdown",
   "metadata": {},
   "source": [
    "## Train/Test split"
   ]
  },
  {
   "cell_type": "code",
   "execution_count": 3,
   "metadata": {},
   "outputs": [
    {
     "data": {
      "text/plain": [
       "(100, 1)"
      ]
     },
     "metadata": {},
     "output_type": "display_data"
    },
    {
     "data": {
      "text/plain": [
       "(100,)"
      ]
     },
     "metadata": {},
     "output_type": "display_data"
    }
   ],
   "source": [
    "X = df[['Time (min)']].values\n",
    "y = df['Buy'].values\n",
    "\n",
    "display(X.shape)\n",
    "display(y.shape)"
   ]
  },
  {
   "cell_type": "code",
   "execution_count": 4,
   "metadata": {},
   "outputs": [],
   "source": [
    "from sklearn.model_selection import train_test_split\n",
    "\n",
    "X_train, X_test, y_train, y_test = train_test_split(\n",
    "    X, y, test_size=0.2)"
   ]
  },
  {
   "cell_type": "markdown",
   "metadata": {},
   "source": [
    "## Model"
   ]
  },
  {
   "cell_type": "code",
   "execution_count": 5,
   "metadata": {},
   "outputs": [
    {
     "name": "stderr",
     "output_type": "stream",
     "text": [
      "Using TensorFlow backend.\n"
     ]
    },
    {
     "name": "stdout",
     "output_type": "stream",
     "text": [
      "_________________________________________________________________\n",
      "Layer (type)                 Output Shape              Param #   \n",
      "=================================================================\n",
      "dense_1 (Dense)              (None, 1)                 2         \n",
      "=================================================================\n",
      "Total params: 2\n",
      "Trainable params: 2\n",
      "Non-trainable params: 0\n",
      "_________________________________________________________________\n"
     ]
    }
   ],
   "source": [
    "from keras.models import Sequential\n",
    "from keras.layers import Dense\n",
    "from keras.optimizers import Adam, SGD\n",
    "\n",
    "model = Sequential()\n",
    "\n",
    "model.add(Dense(1, input_shape=(1,), activation='sigmoid'))\n",
    "\n",
    "model.compile(SGD(lr=0.5), 'binary_crossentropy', metrics=['accuracy'])\n",
    "\n",
    "model.summary()"
   ]
  },
  {
   "cell_type": "code",
   "execution_count": 6,
   "metadata": {},
   "outputs": [],
   "source": [
    "# Train\n",
    "history = model.fit(\n",
    "    X_train, y_train,\n",
    "    epochs=40, verbose=0)"
   ]
  },
  {
   "cell_type": "code",
   "execution_count": 7,
   "metadata": {},
   "outputs": [
    {
     "data": {
      "image/png": "[encoded data removed]",
      "text/plain": [
       "<Figure size 432x288 with 1 Axes>"
      ]
     },
     "metadata": {},
     "output_type": "display_data"
    }
   ],
   "source": [
    "historydf = pd.DataFrame(history.history, index=history.epoch)\n",
    "historydf.plot();"
   ]
  },
  {
   "cell_type": "markdown",
   "metadata": {},
   "source": [
    "## Class Prediction\n",
    "- Apply Step function to Logistic Regression\n",
    "\\begin{equation}\n",
    "  => y\\_pred = \\begin{cases}\n",
    "    1, & \\text{if $\\widehat{y} >= 0.5$}\\\\\n",
    "    0, & \\text{if $\\widehat{y} < 0.5$}\n",
    "  \\end{cases}\n",
    "\\end{equation}\n",
    "<img src=\"./Figs/3.jpg\" alt=\"Drawing\" style=\"width: 550px;\"/>\n",
    "\n",
    "## Confusion matrix\n",
    "- Binary Classification\n",
    "<img src=\"./Figs/5.jpg\" alt=\"Drawing\" style=\"width: 550px;\"/>\n",
    "\n",
    "- Multiclass Classification\n",
    "<img src=\"./Figs/6.jpg\" alt=\"Drawing\" style=\"width: 550px;\"/>\n",
    "\n",
    "### Accuracy\n",
    "$$A = \\frac{Corrects}{Total} = \\frac{TN + TP}{TN + FP + FN + TP}$$\n",
    "\n",
    "### Error Rate\n",
    "$$ER = \\frac{Wrongs}{Total} = \\frac{FP + FN}{TN + FP + FN + TP}$$\n",
    "\n",
    "### Precision\n",
    "Test = positive, How often prediction correct?\n",
    "$$P = \\frac{True Positive}{Test Positive} = \\frac{TP}{TP + FP}$$\n",
    "\n",
    "- Example: Spam email filter model\n",
    "    + Acceptable if spam detected as not spam\n",
    "    + False Negative is OK, False Positive is not accepted\n",
    "    + Need high Precision\n",
    "\n",
    "### Recall\n",
    "Actual value positive, How often prediction correct?\n",
    "$$R = \\frac{True Positive}{Actual Positive} = \\frac{TP}{TP+FN}$$\n",
    "\n",
    "- Example: Cancer diagnosing model\n",
    "    + Acceptable if non-cancer detected as cancer\n",
    "    + False Positive is OK, False Negative is not\n",
    "    + Need high Recall\n",
    "\n",
    "### F1 Score\n",
    "High if both Precision and Recall High\n",
    "$$F1 = \\frac{2*P*R}{P+R}$$\n",
    "\n",
    "### $F_\\beta$ score\n",
    "\n",
    "$$F_\\beta = (1+\\beta^2)\\frac{P*R}{\\beta^2*P+R}$$\n",
    "\n",
    "- $\\beta$ is in range $[0, \\infty]$\n",
    "    + If $\\beta = 0$, $F_\\beta = Precision$\n",
    "    + If $\\beta = 1$, $F_\\beta = F1$\n",
    "    + If $\\beta = \\infty$, $F_\\beta = Recall$\n",
    "\n",
    "## AUC-ROC Area Under the Curve of the Receiver Operating Characteristic\n",
    "### Split\n",
    "- Example: 1D Split\n",
    "    + Perfect Split\n",
    "    + Good Split\n",
    "    + Random Split\n",
    "\n",
    "<img src=\"./Figs/9.jpg\" alt=\"Drawing\" style=\"width: 750px;\"/>\n",
    "\n",
    "### True positive rate (TPR) - aka: sensitivity, hit rate, recall\n",
    "$$TPR = \\frac{True\\ Positive}{All\\ Positive} = \\frac{TP}{TP+FN}$$\n",
    "\n",
    "### False positive rate (FPR) - aka: fall-out\n",
    "$$FPR = \\frac{False\\ Positive}{All\\ Negative} = \\frac{FP}{FP+TN}$$\n",
    "\n",
    "### AUC - ROC\n",
    "- ROC = Curve\n",
    "    + Find all possible splits on the dataset\n",
    "    + Construct all pairs of (TPR, FPR)\n",
    "    + Draw the Curve \n",
    "- AUC = The Area under the Curve\n",
    "    - AUC range [0, 1]\n",
    "        - Random model AUC = 0.5\n",
    "        - Perfect model AUC = 1.0\n",
    "        - Good model AUC > 0.8\n",
    "        - Bad model AUC < 0.5\n",
    "\n",
    "<img src=\"./Figs/8.png\" alt=\"Drawing\" style=\"width: 550px;\"/>"
   ]
  },
  {
   "cell_type": "code",
   "execution_count": 8,
   "metadata": {},
   "outputs": [],
   "source": [
    "## Class Prediction\n",
    "y_train_class_pred = model.predict(X_train) > 0.5 # y_train_class_pred = model.predict_classes(X_train)\n",
    "y_test_class_pred = model.predict(X_test) > 0.5 # y_test_class_pred = model.predict_classes(X_test)"
   ]
  },
  {
   "cell_type": "code",
   "execution_count": 9,
   "metadata": {},
   "outputs": [
    {
     "name": "stdout",
     "output_type": "stream",
     "text": [
      "The train confusion matrix:\n",
      "[[30  8]\n",
      " [ 7 35]]\n",
      "\n",
      "The test confusion matrix:\n",
      "[[10  2]\n",
      " [ 0  8]]\n"
     ]
    }
   ],
   "source": [
    "## Confusion matrix\n",
    "from sklearn.metrics import confusion_matrix\n",
    "\n",
    "print(\"The train confusion matrix:\")\n",
    "print(confusion_matrix(y_train, y_train_class_pred))\n",
    "print('')\n",
    "print(\"The test confusion matrix:\")\n",
    "print(confusion_matrix(y_test, y_test_class_pred))"
   ]
  },
  {
   "cell_type": "code",
   "execution_count": 10,
   "metadata": {},
   "outputs": [
    {
     "name": "stdout",
     "output_type": "stream",
     "text": [
      "The train Accuracy score is 0.812\n",
      "The test Accuracy score is 0.900\n"
     ]
    }
   ],
   "source": [
    "## Accuracy\n",
    "from sklearn.metrics import accuracy_score\n",
    "\n",
    "print(\"The train Accuracy score is {:0.3f}\".format(accuracy_score(y_train, y_train_class_pred)))\n",
    "print(\"The test Accuracy score is {:0.3f}\".format(accuracy_score(y_test, y_test_class_pred)))"
   ]
  },
  {
   "cell_type": "code",
   "execution_count": 11,
   "metadata": {},
   "outputs": [
    {
     "name": "stdout",
     "output_type": "stream",
     "text": [
      "The train Precision score is 0.814\n",
      "The test Precision score is 0.800\n"
     ]
    }
   ],
   "source": [
    "## Precision\n",
    "from sklearn.metrics import precision_score\n",
    "\n",
    "print(\"The train Precision score is {:0.3f}\".format(precision_score(y_train, y_train_class_pred)))\n",
    "print(\"The test Precision score is {:0.3f}\".format(precision_score(y_test, y_test_class_pred)))"
   ]
  },
  {
   "cell_type": "code",
   "execution_count": 12,
   "metadata": {},
   "outputs": [
    {
     "name": "stdout",
     "output_type": "stream",
     "text": [
      "The train Recall score is 0.833\n",
      "The test Recall score is 1.000\n"
     ]
    }
   ],
   "source": [
    "## Recall\n",
    "from sklearn.metrics import recall_score\n",
    "\n",
    "print(\"The train Recall score is {:0.3f}\".format(recall_score(y_train, y_train_class_pred)))\n",
    "print(\"The test Recall score is {:0.3f}\".format(recall_score(y_test, y_test_class_pred)))"
   ]
  },
  {
   "cell_type": "code",
   "execution_count": 13,
   "metadata": {},
   "outputs": [
    {
     "name": "stdout",
     "output_type": "stream",
     "text": [
      "The train F1 score is 0.824\n",
      "The test F1 score is 0.889\n"
     ]
    }
   ],
   "source": [
    "## F1 score\n",
    "from sklearn.metrics import f1_score\n",
    "\n",
    "print(\"The train F1 score is {:0.3f}\".format(f1_score(y_train, y_train_class_pred)))\n",
    "print(\"The test F1 score is {:0.3f}\".format(f1_score(y_test, y_test_class_pred)))"
   ]
  },
  {
   "cell_type": "code",
   "execution_count": 14,
   "metadata": {},
   "outputs": [
    {
     "name": "stdout",
     "output_type": "stream",
     "text": [
      "The train classification report:\n",
      "             precision    recall  f1-score   support\n",
      "\n",
      "          0       0.81      0.79      0.80        38\n",
      "          1       0.81      0.83      0.82        42\n",
      "\n",
      "avg / total       0.81      0.81      0.81        80\n",
      "\n",
      "\n",
      "The test classification report:\n",
      "             precision    recall  f1-score   support\n",
      "\n",
      "          0       1.00      0.83      0.91        12\n",
      "          1       0.80      1.00      0.89         8\n",
      "\n",
      "avg / total       0.92      0.90      0.90        20\n",
      "\n"
     ]
    }
   ],
   "source": [
    "## Report\n",
    "from sklearn.metrics import classification_report\n",
    "\n",
    "print(\"The train classification report:\")\n",
    "print(classification_report(y_train, y_train_class_pred))\n",
    "print('')\n",
    "print(\"The test classification report:\")\n",
    "print(classification_report(y_test, y_test_class_pred))"
   ]
  },
  {
   "cell_type": "markdown",
   "metadata": {},
   "source": [
    "## Cross Validation\n",
    "- Tradeoff Computational power <-> Accuracy\n",
    "- Can you distributed computing or parallelization to Train multiple Cross validation\n",
    "<img src=\"./Figs/4.jpg\" alt=\"Drawing\" style=\"width: 550px;\"/>\n"
   ]
  },
  {
   "cell_type": "code",
   "execution_count": 15,
   "metadata": {},
   "outputs": [],
   "source": [
    "from keras.wrappers.scikit_learn import KerasClassifier\n",
    "\n",
    "def build_logistic_regression_model():\n",
    "    model = Sequential()\n",
    "    model.add(Dense(1, input_shape=(1,), activation='sigmoid'))\n",
    "    model.compile(SGD(lr=0.5),\n",
    "                  'binary_crossentropy',\n",
    "                  metrics=['accuracy'])\n",
    "    return model"
   ]
  },
  {
   "cell_type": "code",
   "execution_count": 16,
   "metadata": {},
   "outputs": [],
   "source": [
    "model = KerasClassifier(\n",
    "    build_fn=build_logistic_regression_model,\n",
    "    epochs=25, verbose=0)"
   ]
  },
  {
   "cell_type": "code",
   "execution_count": 17,
   "metadata": {},
   "outputs": [
    {
     "data": {
      "text/plain": [
       "array([0.85294118, 0.84848485, 0.6969697 ])"
      ]
     },
     "metadata": {},
     "output_type": "display_data"
    },
    {
     "name": "stdout",
     "output_type": "stream",
     "text": [
      "The cross validation accuracy is 0.7995 ± 0.0725\n"
     ]
    }
   ],
   "source": [
    "from sklearn.model_selection import cross_val_score, KFold\n",
    "\n",
    "scores = cross_val_score(\n",
    "    model,\n",
    "    X, y,\n",
    "    cv=KFold(3, shuffle=True))\n",
    "\n",
    "display(scores)\n",
    "print(\"The cross validation accuracy is {:0.4f} ± {:0.4f}\".format(scores.mean(), scores.std()))"
   ]
  }
 ],
 "metadata": {
  "kernelspec": {
   "display_name": "Python 3.7",
   "language": "python",
   "name": "py37"
  },
  "language_info": {
   "codemirror_mode": {
    "name": "ipython",
    "version": 3
   },
   "file_extension": ".py",
   "mimetype": "text/x-python",
   "name": "python",
   "nbconvert_exporter": "python",
   "pygments_lexer": "ipython3",
   "version": "3.7.9"
  }
 },
 "nbformat": 4,
 "nbformat_minor": 2
}
